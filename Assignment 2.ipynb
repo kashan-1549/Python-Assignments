{
 "cells": [
  {
   "cell_type": "markdown",
   "metadata": {},
   "source": [
    "# Assignment 2"
   ]
  },
  {
   "cell_type": "markdown",
   "metadata": {},
   "source": [
    "1. Write a program which takes 5 inputs from user for different subject’s marks, total it and generate mark sheet using grades ?"
   ]
  },
  {
   "cell_type": "code",
   "execution_count": null,
   "metadata": {},
   "outputs": [],
   "source": [
    "### print(\"Enter 'x' for exit.\");\n",
    "print(\"Enter marks obtained in 5 subjects: \");\n",
    "mark1 = input(\"Enter Marks Obtained in English out of 100: \");\n",
    "if mark1 == 'x':\n",
    "    exit();\n",
    "else:\n",
    "    mark1 = int(mark1);\n",
    "    mark2 = int(input(\"Enter Marks Obtained in Urdu out of 100: \"));\n",
    "    mark3 = int(input(\"Enter Marks Obtained in Physics 100: \"));\n",
    "    mark4 = int(input(\"Enter Marks Obtained in Chemistry 100: \"));\n",
    "    mark5 = int(input(\"Enter Marks Obtained in Maths 100: \"));\n",
    "    maxmark = 500;\n",
    "    a = 100;\n",
    "    lis = [mark1, mark2, mark3, mark3, mark4, mark5]\n",
    "    sum = mark1 + mark2 + mark3 + mark4 + mark5;\n",
    "    average = sum/5;\n",
    "    percentage = (sum/500)*100;\n",
    "    print(\"\\n\\n\\t\\t\\t\\t\\tMarksheet\\n\\n\")\n",
    "    print(\"Subjects\\t\\tMax Marks\\t\\t  Marks Obtained\")\n",
    "    print(\"English\\t\\t\\t\",a,\"\\t\\t\\t\\t\", mark1)\n",
    "    print(\"Urdu\\t\\t\\t\",a,\"\\t\\t\\t\\t\", mark2)\n",
    "    print(\"Physics\\t\\t\\t\",a,\"\\t\\t\\t\\t\", mark3)\n",
    "    print(\"Chemistry\\t\\t\",a,\"\\t\\t\\t\\t\", mark4)\n",
    "    print(\"Maths\\t\\t\\t\",a,\"\\t\\t\\t\\t\", mark5)\n",
    "    \n",
    "    \n",
    "    if(average>=91 and average<=100):\n",
    "    \tprint(\"\\nYour Grade is A+\");\n",
    "    elif(average>=81 and average<=90):\n",
    "    \tprint(\"\\nYour Grade is A\");\n",
    "    elif(average>=71 and average<=80):\n",
    "    \tprint(\"\\nYour Grade is B+\");\n",
    "    elif(average>=61 and average<=70):\n",
    "    \tprint(\"\\nYour Grade is B\");\n",
    "    elif(average>=51 and average<=60):\n",
    "    \tprint(\"\\nYour Grade is C+\");\n",
    "    elif(average>=41 and average<=50):\n",
    "    \tprint(\"\\nYour Grade is C\");\n",
    "    elif(average>=0 and average<=40):\n",
    "    \tprint(\"\\nYour Grade is F\");\n",
    "    else:\n",
    "    \tprint(\"\\nStrange Grade..!!\");\n",
    "        \n",
    "    print(\"Average Marks = \", average);\n",
    "    print(\"Percentage Marks = \", percentage,\"%\");"
   ]
  },
  {
   "cell_type": "markdown",
   "metadata": {},
   "source": [
    "2. Write a program which take input from user and identify that the given number is even or odd?"
   ]
  },
  {
   "cell_type": "code",
   "execution_count": null,
   "metadata": {},
   "outputs": [],
   "source": [
    "num = int(input(\"Enter a number: \"))\n",
    "if (num % 2) == 0:\n",
    "   print(\"{0} is Even\".format(num))\n",
    "else:\n",
    "   print(\"{0} is Odd\".format(num))"
   ]
  },
  {
   "cell_type": "markdown",
   "metadata": {},
   "source": [
    "3. Write a program which print the length of the list?"
   ]
  },
  {
   "cell_type": "code",
   "execution_count": null,
   "metadata": {},
   "outputs": [],
   "source": [
    "items = [1,2,3,4,5]\n",
    "print(len(items))"
   ]
  },
  {
   "cell_type": "markdown",
   "metadata": {},
   "source": [
    "4. Write a Python program to sum all the numeric items in a list?"
   ]
  },
  {
   "cell_type": "code",
   "execution_count": null,
   "metadata": {},
   "outputs": [],
   "source": [
    "def sum_list(items):\n",
    "    sum_numbers = 0\n",
    "    for x in items:\n",
    "        sum_numbers += x\n",
    "    return sum_numbers\n",
    "print(sum_list([1,2,-8,12,18]))"
   ]
  },
  {
   "cell_type": "markdown",
   "metadata": {},
   "source": [
    "5. Write a Python program to get the largest number from a numeric list."
   ]
  },
  {
   "cell_type": "code",
   "execution_count": null,
   "metadata": {},
   "outputs": [],
   "source": [
    "list1 = [10, 20, 4, 45, 99]  \n",
    "print(\"Largest element is:\", max(list1)) "
   ]
  },
  {
   "cell_type": "markdown",
   "metadata": {},
   "source": [
    "6. Take a list, say for example this one:\n",
    "\n",
    "a = [1, 1, 2, 3, 5, 8, 13, 21, 34, 55, 89]\n",
    "\n",
    "and write a program that prints out all the elements of the list that are\n",
    "less than 5."
   ]
  },
  {
   "cell_type": "code",
   "execution_count": null,
   "metadata": {
    "scrolled": true
   },
   "outputs": [],
   "source": [
    "a = [1,1,2,3,4,8,13,21,34,55,89]\n",
    "\n",
    "for i in range(len(a)):\n",
    "    if a[i]<5:\n",
    "        print(a[i])"
   ]
  }
 ],
 "metadata": {
  "kernelspec": {
   "display_name": "Python 3",
   "language": "python",
   "name": "python3"
  },
  "language_info": {
   "codemirror_mode": {
    "name": "ipython",
    "version": 3
   },
   "file_extension": ".py",
   "mimetype": "text/x-python",
   "name": "python",
   "nbconvert_exporter": "python",
   "pygments_lexer": "ipython3",
   "version": "3.7.3"
  }
 },
 "nbformat": 4,
 "nbformat_minor": 2
}
